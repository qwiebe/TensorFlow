{
 "cells": [
  {
   "cell_type": "code",
   "execution_count": 1,
   "id": "8ff68b19",
   "metadata": {},
   "outputs": [
    {
     "data": {
      "text/plain": [
       "'2.9.2'"
      ]
     },
     "execution_count": 1,
     "metadata": {},
     "output_type": "execute_result"
    }
   ],
   "source": [
    "# Following: https://betterdatascience.com/install-tensorflow-2-7-on-macbook-pro-m1-pro/\n",
    "import tensorflow as tf\n",
    "tf.__version__"
   ]
  },
  {
   "cell_type": "code",
   "execution_count": 2,
   "id": "4f90ed48",
   "metadata": {},
   "outputs": [
    {
     "data": {
      "text/plain": [
       "[PhysicalDevice(name='/physical_device:CPU:0', device_type='CPU'),\n",
       " PhysicalDevice(name='/physical_device:GPU:0', device_type='GPU')]"
      ]
     },
     "execution_count": 2,
     "metadata": {},
     "output_type": "execute_result"
    }
   ],
   "source": [
    "tf.config.list_physical_devices()"
   ]
  },
  {
   "cell_type": "code",
   "execution_count": 3,
   "id": "deef2523",
   "metadata": {},
   "outputs": [
    {
     "name": "stdout",
     "output_type": "stream",
     "text": [
      "Metal device set to: Apple M1 Pro\n",
      "\n",
      "systemMemory: 16.00 GB\n",
      "maxCacheSize: 5.33 GB\n",
      "\n"
     ]
    },
    {
     "name": "stderr",
     "output_type": "stream",
     "text": [
      "2022-08-15 10:42:15.117740: I tensorflow/core/common_runtime/pluggable_device/pluggable_device_factory.cc:305] Could not identify NUMA node of platform GPU ID 0, defaulting to 0. Your kernel may not have been built with NUMA support.\n",
      "2022-08-15 10:42:15.117884: I tensorflow/core/common_runtime/pluggable_device/pluggable_device_factory.cc:271] Created TensorFlow device (/job:localhost/replica:0/task:0/device:GPU:0 with 0 MB memory) -> physical PluggableDevice (device: 0, name: METAL, pci bus id: <undefined>)\n"
     ]
    }
   ],
   "source": [
    "import numpy as np\n",
    "\n",
    "X = np.arange(1, 101, step=0.1)\n",
    "y = [x + 10 for x in X]\n",
    "\n",
    "X = tf.cast(tf.constant(X), dtype=tf.float32)\n",
    "y = tf.cast(tf.constant(y), dtype=tf.float32)"
   ]
  },
  {
   "cell_type": "code",
   "execution_count": 4,
   "id": "39f0c2c1",
   "metadata": {},
   "outputs": [
    {
     "name": "stdout",
     "output_type": "stream",
     "text": [
      "Epoch 1/100\n"
     ]
    },
    {
     "name": "stderr",
     "output_type": "stream",
     "text": [
      "2022-08-15 10:44:46.542931: W tensorflow/core/platform/profile_utils/cpu_utils.cc:128] Failed to get CPU frequency: 0 Hz\n",
      "2022-08-15 10:44:46.736017: I tensorflow/core/grappler/optimizers/custom_graph_optimizer_registry.cc:113] Plugin optimizer for device_type GPU is enabled.\n"
     ]
    },
    {
     "name": "stdout",
     "output_type": "stream",
     "text": [
      "32/32 [==============================] - 2s 18ms/step - loss: 21.9532 - mean_absolute_error: 21.9532\n",
      "Epoch 2/100\n",
      "32/32 [==============================] - 0s 6ms/step - loss: 8.2085 - mean_absolute_error: 8.2085\n",
      "Epoch 3/100\n",
      "32/32 [==============================] - 0s 6ms/step - loss: 3.7317 - mean_absolute_error: 3.7317\n",
      "Epoch 4/100\n",
      "32/32 [==============================] - 0s 5ms/step - loss: 4.6651 - mean_absolute_error: 4.6651\n",
      "Epoch 5/100\n",
      "32/32 [==============================] - 0s 6ms/step - loss: 2.8306 - mean_absolute_error: 2.8306\n",
      "Epoch 6/100\n",
      "32/32 [==============================] - 0s 6ms/step - loss: 6.3019 - mean_absolute_error: 6.3019\n",
      "Epoch 7/100\n",
      "32/32 [==============================] - 0s 6ms/step - loss: 3.3557 - mean_absolute_error: 3.3557\n",
      "Epoch 8/100\n",
      "32/32 [==============================] - 0s 5ms/step - loss: 3.9976 - mean_absolute_error: 3.9976\n",
      "Epoch 9/100\n",
      "32/32 [==============================] - 0s 5ms/step - loss: 2.1031 - mean_absolute_error: 2.1031\n",
      "Epoch 10/100\n",
      "32/32 [==============================] - 0s 5ms/step - loss: 4.7224 - mean_absolute_error: 4.7224\n",
      "Epoch 11/100\n",
      "32/32 [==============================] - 0s 5ms/step - loss: 2.4827 - mean_absolute_error: 2.4827\n",
      "Epoch 12/100\n",
      "32/32 [==============================] - 0s 6ms/step - loss: 8.5413 - mean_absolute_error: 8.5413\n",
      "Epoch 13/100\n",
      "32/32 [==============================] - 0s 6ms/step - loss: 7.5698 - mean_absolute_error: 7.5698\n",
      "Epoch 14/100\n",
      "32/32 [==============================] - 0s 6ms/step - loss: 4.2085 - mean_absolute_error: 4.2085\n",
      "Epoch 15/100\n",
      "32/32 [==============================] - 0s 6ms/step - loss: 3.6974 - mean_absolute_error: 3.6974\n",
      "Epoch 16/100\n",
      "32/32 [==============================] - 0s 5ms/step - loss: 2.8881 - mean_absolute_error: 2.8881\n",
      "Epoch 17/100\n",
      "32/32 [==============================] - 0s 6ms/step - loss: 2.4753 - mean_absolute_error: 2.4753\n",
      "Epoch 18/100\n",
      "32/32 [==============================] - 0s 5ms/step - loss: 3.5694 - mean_absolute_error: 3.5694\n",
      "Epoch 19/100\n",
      "32/32 [==============================] - 0s 5ms/step - loss: 5.2858 - mean_absolute_error: 5.2858\n",
      "Epoch 20/100\n",
      "32/32 [==============================] - 0s 6ms/step - loss: 6.0622 - mean_absolute_error: 6.0622\n",
      "Epoch 21/100\n",
      "32/32 [==============================] - 0s 5ms/step - loss: 3.2879 - mean_absolute_error: 3.2879\n",
      "Epoch 22/100\n",
      "32/32 [==============================] - 0s 6ms/step - loss: 4.5167 - mean_absolute_error: 4.5167\n",
      "Epoch 23/100\n",
      "32/32 [==============================] - 0s 6ms/step - loss: 4.4535 - mean_absolute_error: 4.4535\n",
      "Epoch 24/100\n",
      "32/32 [==============================] - 0s 6ms/step - loss: 2.1834 - mean_absolute_error: 2.1834\n",
      "Epoch 25/100\n",
      "32/32 [==============================] - 0s 6ms/step - loss: 2.6443 - mean_absolute_error: 2.6443\n",
      "Epoch 26/100\n",
      "32/32 [==============================] - 0s 5ms/step - loss: 1.8872 - mean_absolute_error: 1.8872\n",
      "Epoch 27/100\n",
      "32/32 [==============================] - 0s 6ms/step - loss: 3.7097 - mean_absolute_error: 3.7097\n",
      "Epoch 28/100\n",
      "32/32 [==============================] - 0s 5ms/step - loss: 5.3845 - mean_absolute_error: 5.3845\n",
      "Epoch 29/100\n",
      "32/32 [==============================] - 0s 5ms/step - loss: 2.5696 - mean_absolute_error: 2.5696\n",
      "Epoch 30/100\n",
      "32/32 [==============================] - 0s 5ms/step - loss: 2.3529 - mean_absolute_error: 2.3529\n",
      "Epoch 31/100\n",
      "32/32 [==============================] - 0s 6ms/step - loss: 2.3617 - mean_absolute_error: 2.3617\n",
      "Epoch 32/100\n",
      "32/32 [==============================] - 0s 5ms/step - loss: 1.7219 - mean_absolute_error: 1.7219\n",
      "Epoch 33/100\n",
      "32/32 [==============================] - 0s 5ms/step - loss: 2.5447 - mean_absolute_error: 2.5447\n",
      "Epoch 34/100\n",
      "32/32 [==============================] - 0s 5ms/step - loss: 2.5871 - mean_absolute_error: 2.5871\n",
      "Epoch 35/100\n",
      "32/32 [==============================] - 0s 5ms/step - loss: 5.1398 - mean_absolute_error: 5.1398\n",
      "Epoch 36/100\n",
      "32/32 [==============================] - 0s 5ms/step - loss: 7.0714 - mean_absolute_error: 7.0714\n",
      "Epoch 37/100\n",
      "32/32 [==============================] - 0s 5ms/step - loss: 2.7069 - mean_absolute_error: 2.7069\n",
      "Epoch 38/100\n",
      "32/32 [==============================] - 0s 5ms/step - loss: 1.5695 - mean_absolute_error: 1.5695\n",
      "Epoch 39/100\n",
      "32/32 [==============================] - 0s 5ms/step - loss: 1.6797 - mean_absolute_error: 1.6797\n",
      "Epoch 40/100\n",
      "32/32 [==============================] - 0s 5ms/step - loss: 2.5362 - mean_absolute_error: 2.5362\n",
      "Epoch 41/100\n",
      "32/32 [==============================] - 0s 5ms/step - loss: 2.3537 - mean_absolute_error: 2.3537\n",
      "Epoch 42/100\n",
      "32/32 [==============================] - 0s 5ms/step - loss: 4.6264 - mean_absolute_error: 4.6264\n",
      "Epoch 43/100\n",
      "32/32 [==============================] - 0s 5ms/step - loss: 4.6924 - mean_absolute_error: 4.6924\n",
      "Epoch 44/100\n",
      "32/32 [==============================] - 0s 5ms/step - loss: 3.3041 - mean_absolute_error: 3.3041\n",
      "Epoch 45/100\n",
      "32/32 [==============================] - 0s 5ms/step - loss: 2.0401 - mean_absolute_error: 2.0401\n",
      "Epoch 46/100\n",
      "32/32 [==============================] - 0s 5ms/step - loss: 3.9793 - mean_absolute_error: 3.9793\n",
      "Epoch 47/100\n",
      "32/32 [==============================] - 0s 5ms/step - loss: 3.5484 - mean_absolute_error: 3.5484\n",
      "Epoch 48/100\n",
      "32/32 [==============================] - 0s 5ms/step - loss: 1.8415 - mean_absolute_error: 1.8415\n",
      "Epoch 49/100\n",
      "32/32 [==============================] - 0s 5ms/step - loss: 1.7960 - mean_absolute_error: 1.7960\n",
      "Epoch 50/100\n",
      "32/32 [==============================] - 0s 5ms/step - loss: 1.5063 - mean_absolute_error: 1.5063\n",
      "Epoch 51/100\n",
      "32/32 [==============================] - 0s 5ms/step - loss: 0.8347 - mean_absolute_error: 0.8347\n",
      "Epoch 52/100\n",
      "32/32 [==============================] - 0s 5ms/step - loss: 1.7033 - mean_absolute_error: 1.7033\n",
      "Epoch 53/100\n",
      "32/32 [==============================] - 0s 5ms/step - loss: 2.6057 - mean_absolute_error: 2.6057\n",
      "Epoch 54/100\n",
      "32/32 [==============================] - 0s 5ms/step - loss: 2.3170 - mean_absolute_error: 2.3170\n",
      "Epoch 55/100\n",
      "32/32 [==============================] - 0s 5ms/step - loss: 1.3948 - mean_absolute_error: 1.3948\n",
      "Epoch 56/100\n",
      "32/32 [==============================] - 0s 5ms/step - loss: 1.4041 - mean_absolute_error: 1.4041\n",
      "Epoch 57/100\n",
      "32/32 [==============================] - 0s 5ms/step - loss: 0.8884 - mean_absolute_error: 0.8884\n",
      "Epoch 58/100\n",
      "32/32 [==============================] - 0s 5ms/step - loss: 2.1004 - mean_absolute_error: 2.1004\n",
      "Epoch 59/100\n",
      "32/32 [==============================] - 0s 6ms/step - loss: 1.7359 - mean_absolute_error: 1.7359\n",
      "Epoch 60/100\n",
      "32/32 [==============================] - 0s 5ms/step - loss: 1.9852 - mean_absolute_error: 1.9852\n",
      "Epoch 61/100\n",
      "32/32 [==============================] - 0s 6ms/step - loss: 0.8799 - mean_absolute_error: 0.8799\n",
      "Epoch 62/100\n",
      "32/32 [==============================] - 0s 5ms/step - loss: 2.1264 - mean_absolute_error: 2.1264\n",
      "Epoch 63/100\n",
      "32/32 [==============================] - 0s 5ms/step - loss: 1.9309 - mean_absolute_error: 1.9309\n",
      "Epoch 64/100\n",
      "32/32 [==============================] - 0s 5ms/step - loss: 1.0203 - mean_absolute_error: 1.0203\n",
      "Epoch 65/100\n",
      "32/32 [==============================] - 0s 5ms/step - loss: 1.1859 - mean_absolute_error: 1.1859\n",
      "Epoch 66/100\n",
      "32/32 [==============================] - 0s 5ms/step - loss: 1.5006 - mean_absolute_error: 1.5006\n",
      "Epoch 67/100\n",
      "32/32 [==============================] - 0s 6ms/step - loss: 1.3344 - mean_absolute_error: 1.3344\n",
      "Epoch 68/100\n",
      "32/32 [==============================] - 0s 5ms/step - loss: 1.7139 - mean_absolute_error: 1.7139\n",
      "Epoch 69/100\n",
      "32/32 [==============================] - 0s 6ms/step - loss: 1.5145 - mean_absolute_error: 1.5145\n",
      "Epoch 70/100\n",
      "32/32 [==============================] - 0s 6ms/step - loss: 3.6981 - mean_absolute_error: 3.6981\n",
      "Epoch 71/100\n",
      "32/32 [==============================] - 0s 6ms/step - loss: 2.0686 - mean_absolute_error: 2.0686\n",
      "Epoch 72/100\n",
      "32/32 [==============================] - 0s 6ms/step - loss: 1.4021 - mean_absolute_error: 1.4021\n",
      "Epoch 73/100\n",
      "32/32 [==============================] - 0s 5ms/step - loss: 2.5546 - mean_absolute_error: 2.5546\n",
      "Epoch 74/100\n",
      "32/32 [==============================] - 0s 5ms/step - loss: 3.1017 - mean_absolute_error: 3.1017\n",
      "Epoch 75/100\n",
      "32/32 [==============================] - 0s 6ms/step - loss: 1.2859 - mean_absolute_error: 1.2859\n",
      "Epoch 76/100\n",
      "32/32 [==============================] - 0s 5ms/step - loss: 1.6000 - mean_absolute_error: 1.6000\n",
      "Epoch 77/100\n",
      "32/32 [==============================] - 0s 5ms/step - loss: 2.9561 - mean_absolute_error: 2.9561\n",
      "Epoch 78/100\n",
      "32/32 [==============================] - 0s 5ms/step - loss: 2.4112 - mean_absolute_error: 2.4112\n",
      "Epoch 79/100\n",
      "32/32 [==============================] - 0s 5ms/step - loss: 2.3379 - mean_absolute_error: 2.3379\n",
      "Epoch 80/100\n",
      "32/32 [==============================] - 0s 5ms/step - loss: 1.6667 - mean_absolute_error: 1.6667\n",
      "Epoch 81/100\n",
      "32/32 [==============================] - 0s 5ms/step - loss: 0.7173 - mean_absolute_error: 0.7173\n",
      "Epoch 82/100\n",
      "32/32 [==============================] - 0s 5ms/step - loss: 0.9863 - mean_absolute_error: 0.9863\n",
      "Epoch 83/100\n",
      "32/32 [==============================] - 0s 5ms/step - loss: 0.8874 - mean_absolute_error: 0.8874\n",
      "Epoch 84/100\n",
      "32/32 [==============================] - 0s 6ms/step - loss: 2.7641 - mean_absolute_error: 2.7641\n",
      "Epoch 85/100\n",
      "32/32 [==============================] - 0s 5ms/step - loss: 1.7658 - mean_absolute_error: 1.7658\n",
      "Epoch 86/100\n",
      "32/32 [==============================] - 0s 5ms/step - loss: 1.5971 - mean_absolute_error: 1.5971\n",
      "Epoch 87/100\n",
      "32/32 [==============================] - 0s 5ms/step - loss: 2.5318 - mean_absolute_error: 2.5318\n",
      "Epoch 88/100\n",
      "32/32 [==============================] - 0s 6ms/step - loss: 1.5588 - mean_absolute_error: 1.5588\n",
      "Epoch 89/100\n",
      "32/32 [==============================] - 0s 6ms/step - loss: 3.2612 - mean_absolute_error: 3.2612\n",
      "Epoch 90/100\n",
      "32/32 [==============================] - 0s 6ms/step - loss: 1.1685 - mean_absolute_error: 1.1685\n",
      "Epoch 91/100\n",
      "32/32 [==============================] - 0s 5ms/step - loss: 2.2955 - mean_absolute_error: 2.2955\n",
      "Epoch 92/100\n",
      "32/32 [==============================] - 0s 6ms/step - loss: 1.6299 - mean_absolute_error: 1.6299\n",
      "Epoch 93/100\n",
      "32/32 [==============================] - 0s 6ms/step - loss: 1.9287 - mean_absolute_error: 1.9287\n",
      "Epoch 94/100\n",
      "32/32 [==============================] - 0s 6ms/step - loss: 1.0400 - mean_absolute_error: 1.0400\n",
      "Epoch 95/100\n",
      "32/32 [==============================] - 0s 5ms/step - loss: 1.9747 - mean_absolute_error: 1.9747\n",
      "Epoch 96/100\n",
      "32/32 [==============================] - 0s 5ms/step - loss: 1.4777 - mean_absolute_error: 1.4777\n",
      "Epoch 97/100\n",
      "32/32 [==============================] - 0s 5ms/step - loss: 1.6388 - mean_absolute_error: 1.6388\n",
      "Epoch 98/100\n",
      "32/32 [==============================] - 0s 6ms/step - loss: 1.6724 - mean_absolute_error: 1.6724\n",
      "Epoch 99/100\n",
      "32/32 [==============================] - 0s 5ms/step - loss: 1.5922 - mean_absolute_error: 1.5922\n",
      "Epoch 100/100\n",
      "32/32 [==============================] - 0s 5ms/step - loss: 1.2352 - mean_absolute_error: 1.2352\n"
     ]
    },
    {
     "data": {
      "text/plain": [
       "<keras.callbacks.History at 0x154900f70>"
      ]
     },
     "execution_count": 4,
     "metadata": {},
     "output_type": "execute_result"
    }
   ],
   "source": [
    "model = tf.keras.Sequential([\n",
    "    tf.keras.layers.Dense(64, input_shape=(1,), activation='relu'),\n",
    "    tf.keras.layers.Dense(64, activation='relu'),\n",
    "    tf.keras.layers.Dense(1)\n",
    "])\n",
    "\n",
    "model.compile(\n",
    "    loss=tf.keras.losses.mean_absolute_error,\n",
    "    optimizer=tf.keras.optimizers.Adam(learning_rate=0.1),\n",
    "    metrics=['mean_absolute_error']\n",
    ")\n",
    "\n",
    "model.fit(X, y, epochs=100)"
   ]
  },
  {
   "cell_type": "code",
   "execution_count": 5,
   "id": "ff29e02c",
   "metadata": {},
   "outputs": [
    {
     "name": "stdout",
     "output_type": "stream",
     "text": [
      "1/1 [==============================] - 0s 241ms/step\n"
     ]
    },
    {
     "name": "stderr",
     "output_type": "stream",
     "text": [
      "2022-08-15 10:52:56.821760: I tensorflow/core/grappler/optimizers/custom_graph_optimizer_registry.cc:113] Plugin optimizer for device_type GPU is enabled.\n"
     ]
    },
    {
     "data": {
      "text/plain": [
       "array([[20.208422],\n",
       "       [30.39835 ],\n",
       "       [40.57215 ]], dtype=float32)"
      ]
     },
     "execution_count": 5,
     "metadata": {},
     "output_type": "execute_result"
    }
   ],
   "source": [
    "model.predict([10, 20, 30])"
   ]
  }
 ],
 "metadata": {
  "kernelspec": {
   "display_name": "Python 3.9.13",
   "language": "python",
   "name": "python3"
  },
  "language_info": {
   "codemirror_mode": {
    "name": "ipython",
    "version": 3
   },
   "file_extension": ".py",
   "mimetype": "text/x-python",
   "name": "python",
   "nbconvert_exporter": "python",
   "pygments_lexer": "ipython3",
   "version": "3.9.13"
  },
  "vscode": {
   "interpreter": {
    "hash": "52ee2977380704a66854748a73250e0671a9318bd5b3fd45a3df9f851ae61629"
   }
  }
 },
 "nbformat": 4,
 "nbformat_minor": 5
}
